{
 "cells": [
  {
   "cell_type": "code",
   "execution_count": 1,
   "id": "a81e903a",
   "metadata": {},
   "outputs": [
    {
     "name": "stdout",
     "output_type": "stream",
     "text": [
      "Hello world\n"
     ]
    }
   ],
   "source": [
    "print(\"Hello world\")"
   ]
  },
  {
   "cell_type": "code",
   "execution_count": 2,
   "id": "1c3087d6",
   "metadata": {},
   "outputs": [
    {
     "name": "stdout",
     "output_type": "stream",
     "text": [
      "9374390446\n"
     ]
    }
   ],
   "source": [
    "print(9374390445+1)"
   ]
  },
  {
   "cell_type": "code",
   "execution_count": 3,
   "id": "c766c153",
   "metadata": {},
   "outputs": [
    {
     "name": "stdout",
     "output_type": "stream",
     "text": [
      "10\n",
      "<class 'int'>\n"
     ]
    }
   ],
   "source": [
    "print(10)\n",
    "print(type(10))"
   ]
  },
  {
   "cell_type": "code",
   "execution_count": 4,
   "id": "cfb61190",
   "metadata": {},
   "outputs": [
    {
     "data": {
      "text/plain": [
       "['bebek', 'burung', 'beo', 'bola']"
      ]
     },
     "execution_count": 4,
     "metadata": {},
     "output_type": "execute_result"
    }
   ],
   "source": [
    "bella = ['bebek','burung','beo','bola']\n",
    "bella"
   ]
  },
  {
   "cell_type": "code",
   "execution_count": 5,
   "id": "92b3c310",
   "metadata": {},
   "outputs": [],
   "source": [
    "a = [90,'i',36816,'love','you',8989]"
   ]
  },
  {
   "cell_type": "code",
   "execution_count": 6,
   "id": "ecdb4aa2",
   "metadata": {},
   "outputs": [
    {
     "data": {
      "text/plain": [
       "[90, 'i', 36816, 'love', 'you', 8989]"
      ]
     },
     "execution_count": 6,
     "metadata": {},
     "output_type": "execute_result"
    }
   ],
   "source": [
    "a"
   ]
  },
  {
   "cell_type": "code",
   "execution_count": 7,
   "id": "99e04f17",
   "metadata": {},
   "outputs": [
    {
     "data": {
      "text/plain": [
       "90"
      ]
     },
     "execution_count": 7,
     "metadata": {},
     "output_type": "execute_result"
    }
   ],
   "source": [
    "a[0]"
   ]
  },
  {
   "cell_type": "code",
   "execution_count": 8,
   "id": "47b7c140",
   "metadata": {},
   "outputs": [
    {
     "data": {
      "text/plain": [
       "'you'"
      ]
     },
     "execution_count": 8,
     "metadata": {},
     "output_type": "execute_result"
    }
   ],
   "source": [
    "a[4]"
   ]
  },
  {
   "cell_type": "code",
   "execution_count": 9,
   "id": "7cad5d17",
   "metadata": {},
   "outputs": [
    {
     "data": {
      "text/plain": [
       "[36816, 'love']"
      ]
     },
     "execution_count": 9,
     "metadata": {},
     "output_type": "execute_result"
    }
   ],
   "source": [
    "a[2:4]"
   ]
  },
  {
   "cell_type": "code",
   "execution_count": 10,
   "id": "56cc9135",
   "metadata": {},
   "outputs": [
    {
     "name": "stdout",
     "output_type": "stream",
     "text": [
      "['bebek', 'burung', 'beo', 'bola', 'bebek', 'burung', 'beo', 'bola', 'bebek', 'burung', 'beo', 'bola']\n"
     ]
    }
   ],
   "source": [
    "print(3*bella)"
   ]
  },
  {
   "cell_type": "code",
   "execution_count": 11,
   "id": "cef7e724",
   "metadata": {},
   "outputs": [
    {
     "name": "stdout",
     "output_type": "stream",
     "text": [
      "2100 2100 2100\n"
     ]
    }
   ],
   "source": [
    "x=y=z=2100\n",
    "print(x,y,z)"
   ]
  },
  {
   "cell_type": "code",
   "execution_count": 12,
   "id": "2bc66f77",
   "metadata": {},
   "outputs": [
    {
     "name": "stdout",
     "output_type": "stream",
     "text": [
      "yyunuuu\n"
     ]
    }
   ],
   "source": [
    "print(\"yyunuuu\")"
   ]
  },
  {
   "cell_type": "code",
   "execution_count": 15,
   "id": "5f0a58d7",
   "metadata": {},
   "outputs": [
    {
     "name": "stdout",
     "output_type": "stream",
     "text": [
      "8\n",
      "100\n",
      "2\n"
     ]
    }
   ],
   "source": [
    "a=8\n",
    "b=90\n",
    "print(a%b)\n",
    "print(a+b+2)\n",
    "print(b%a)"
   ]
  },
  {
   "cell_type": "code",
   "execution_count": null,
   "id": "f384025d",
   "metadata": {},
   "outputs": [],
   "source": []
  },
  {
   "cell_type": "code",
   "execution_count": null,
   "id": "2a4ae060",
   "metadata": {},
   "outputs": [],
   "source": []
  },
  {
   "cell_type": "code",
   "execution_count": null,
   "id": "e73cd8c0",
   "metadata": {},
   "outputs": [],
   "source": []
  },
  {
   "cell_type": "code",
   "execution_count": null,
   "id": "5300641f",
   "metadata": {},
   "outputs": [],
   "source": []
  },
  {
   "cell_type": "code",
   "execution_count": null,
   "id": "a4f700de",
   "metadata": {},
   "outputs": [],
   "source": []
  },
  {
   "cell_type": "code",
   "execution_count": null,
   "id": "b17307e0",
   "metadata": {},
   "outputs": [],
   "source": []
  },
  {
   "cell_type": "code",
   "execution_count": null,
   "id": "ea0129d3",
   "metadata": {},
   "outputs": [],
   "source": []
  },
  {
   "cell_type": "code",
   "execution_count": null,
   "id": "3a39f8d9",
   "metadata": {},
   "outputs": [],
   "source": []
  },
  {
   "cell_type": "code",
   "execution_count": null,
   "id": "112827ee",
   "metadata": {},
   "outputs": [],
   "source": []
  }
 ],
 "metadata": {
  "kernelspec": {
   "display_name": "Python 3",
   "language": "python",
   "name": "python3"
  },
  "language_info": {
   "codemirror_mode": {
    "name": "ipython",
    "version": 3
   },
   "file_extension": ".py",
   "mimetype": "text/x-python",
   "name": "python",
   "nbconvert_exporter": "python",
   "pygments_lexer": "ipython3",
   "version": "3.8.8"
  }
 },
 "nbformat": 4,
 "nbformat_minor": 5
}
